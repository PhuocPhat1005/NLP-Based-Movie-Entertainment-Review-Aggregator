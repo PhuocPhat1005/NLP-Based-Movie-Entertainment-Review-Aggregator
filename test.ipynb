{
 "cells": [
  {
   "cell_type": "code",
   "id": "initial_id",
   "metadata": {
    "collapsed": true,
    "ExecuteTime": {
     "end_time": "2025-04-04T07:20:17.527714Z",
     "start_time": "2025-04-04T07:20:05.486937Z"
    }
   },
   "source": "import tensorflow as tf",
   "outputs": [],
   "execution_count": 1
  },
  {
   "metadata": {
    "ExecuteTime": {
     "end_time": "2025-04-04T07:20:25.969346Z",
     "start_time": "2025-04-04T07:20:25.953706Z"
    }
   },
   "cell_type": "code",
   "source": [
    "gpus = tf.config.list_physical_devices('GPU')\n",
    "print(\"Danh sách GPU:\", gpus)"
   ],
   "id": "aed3cc29d8c994e4",
   "outputs": [
    {
     "name": "stdout",
     "output_type": "stream",
     "text": [
      "Danh sách GPU: []\n"
     ]
    }
   ],
   "execution_count": 2
  },
  {
   "metadata": {
    "ExecuteTime": {
     "end_time": "2025-04-04T07:21:09.346434Z",
     "start_time": "2025-04-04T07:21:09.342515Z"
    }
   },
   "cell_type": "code",
   "source": [
    "import torch\n",
    "\n",
    "# Kiểm tra xem GPU có khả dụng không\n",
    "print(\"CUDA Available:\", torch.cuda.is_available())"
   ],
   "id": "80bc8319855d06c1",
   "outputs": [
    {
     "name": "stdout",
     "output_type": "stream",
     "text": [
      "CUDA Available: True\n"
     ]
    }
   ],
   "execution_count": 4
  },
  {
   "metadata": {
    "ExecuteTime": {
     "end_time": "2025-04-04T07:21:09.746831Z",
     "start_time": "2025-04-04T07:21:09.741696Z"
    }
   },
   "cell_type": "code",
   "source": [
    "# Nếu có, in tên GPU\n",
    "if torch.cuda.is_available():\n",
    "    print(\"GPU Name:\", torch.cuda.get_device_name(0))"
   ],
   "id": "ad512b2c2491f775",
   "outputs": [
    {
     "name": "stdout",
     "output_type": "stream",
     "text": [
      "GPU Name: NVIDIA GeForce RTX 3050 Laptop GPU\n"
     ]
    }
   ],
   "execution_count": 5
  },
  {
   "metadata": {},
   "cell_type": "code",
   "outputs": [],
   "execution_count": null,
   "source": "",
   "id": "48b61ffbb1a5285e"
  }
 ],
 "metadata": {
  "kernelspec": {
   "display_name": "Python (medical_image_segmentation)",
   "language": "python",
   "name": "medical_image_segmentation"
  },
  "language_info": {
   "codemirror_mode": {
    "name": "ipython",
    "version": 2
   },
   "file_extension": ".py",
   "mimetype": "text/x-python",
   "name": "python",
   "nbconvert_exporter": "python",
   "pygments_lexer": "ipython2",
   "version": "2.7.6"
  }
 },
 "nbformat": 4,
 "nbformat_minor": 5
}
