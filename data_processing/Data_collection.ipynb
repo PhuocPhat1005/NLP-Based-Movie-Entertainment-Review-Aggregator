{
 "cells": [
  {
   "cell_type": "code",
   "execution_count": 19,
   "metadata": {},
   "outputs": [
    {
     "name": "stdout",
     "output_type": "stream",
     "text": [
      "Looking in indexes: https://pypi.org/simple, https://pypi.ngc.nvidia.com\n",
      "Requirement already satisfied: kagglehub in c:\\users\\acer\\anaconda3\\envs\\min_ds-env2\\lib\\site-packages (0.3.10)\n",
      "Requirement already satisfied: packaging in c:\\users\\acer\\anaconda3\\envs\\min_ds-env2\\lib\\site-packages (from kagglehub) (24.2)\n",
      "Requirement already satisfied: pyyaml in c:\\users\\acer\\anaconda3\\envs\\min_ds-env2\\lib\\site-packages (from kagglehub) (6.0.2)\n",
      "Requirement already satisfied: requests in c:\\users\\acer\\anaconda3\\envs\\min_ds-env2\\lib\\site-packages (from kagglehub) (2.27.1)\n",
      "Requirement already satisfied: tqdm in c:\\users\\acer\\anaconda3\\envs\\min_ds-env2\\lib\\site-packages (from kagglehub) (4.67.1)\n",
      "Requirement already satisfied: urllib3<1.27,>=1.21.1 in c:\\users\\acer\\anaconda3\\envs\\min_ds-env2\\lib\\site-packages (from requests->kagglehub) (1.26.19)\n",
      "Requirement already satisfied: certifi>=2017.4.17 in c:\\users\\acer\\anaconda3\\envs\\min_ds-env2\\lib\\site-packages (from requests->kagglehub) (2024.8.30)\n",
      "Requirement already satisfied: charset-normalizer~=2.0.0 in c:\\users\\acer\\anaconda3\\envs\\min_ds-env2\\lib\\site-packages (from requests->kagglehub) (2.0.12)\n",
      "Requirement already satisfied: idna<4,>=2.5 in c:\\users\\acer\\anaconda3\\envs\\min_ds-env2\\lib\\site-packages (from requests->kagglehub) (3.10)\n",
      "Requirement already satisfied: colorama in c:\\users\\acer\\anaconda3\\envs\\min_ds-env2\\lib\\site-packages (from tqdm->kagglehub) (0.4.6)\n"
     ]
    }
   ],
   "source": [
    "! pip install kagglehub"
   ]
  },
  {
   "cell_type": "markdown",
   "metadata": {},
   "source": [
    "# **Import Library**"
   ]
  },
  {
   "cell_type": "code",
   "execution_count": 20,
   "metadata": {},
   "outputs": [],
   "source": [
    "import kagglehub\n",
    "import shutil\n",
    "import os"
   ]
  },
  {
   "cell_type": "markdown",
   "metadata": {},
   "source": [
    "# **Get Data from kaggle API**"
   ]
  },
  {
   "cell_type": "markdown",
   "metadata": {},
   "source": [
    "### **Download Rotten Tomatoes reviews dataset**"
   ]
  },
  {
   "cell_type": "code",
   "execution_count": 21,
   "metadata": {},
   "outputs": [
    {
     "name": "stdout",
     "output_type": "stream",
     "text": [
      "Downloading from https://www.kaggle.com/api/v1/datasets/download/stefanoleone992/rotten-tomatoes-movies-and-critic-reviews-dataset?dataset_version_number=1...\n"
     ]
    },
    {
     "name": "stderr",
     "output_type": "stream",
     "text": [
      "100%|██████████| 77.2M/77.2M [00:39<00:00, 2.03MB/s]"
     ]
    },
    {
     "name": "stdout",
     "output_type": "stream",
     "text": [
      "Extracting files...\n"
     ]
    },
    {
     "name": "stderr",
     "output_type": "stream",
     "text": [
      "\n"
     ]
    },
    {
     "name": "stdout",
     "output_type": "stream",
     "text": [
      "Datasets have been downloaded successfully: C:\\Users\\ACER\\.cache\\kagglehub\\datasets\\stefanoleone992\\rotten-tomatoes-movies-and-critic-reviews-dataset\\versions\\1\n"
     ]
    }
   ],
   "source": [
    "path_1 = kagglehub.dataset_download(\"stefanoleone992/rotten-tomatoes-movies-and-critic-reviews-dataset\")\n",
    "\n",
    "print(\"Datasets have been downloaded successfully:\", path_1)"
   ]
  },
  {
   "cell_type": "markdown",
   "metadata": {},
   "source": [
    "### **Download IMDB reviews dataset**"
   ]
  },
  {
   "cell_type": "code",
   "execution_count": 23,
   "metadata": {},
   "outputs": [
    {
     "name": "stdout",
     "output_type": "stream",
     "text": [
      "Downloading from https://www.kaggle.com/api/v1/datasets/download/lakshmi25npathi/imdb-dataset-of-50k-movie-reviews?dataset_version_number=1...\n"
     ]
    },
    {
     "name": "stderr",
     "output_type": "stream",
     "text": [
      "100%|██████████| 25.7M/25.7M [00:34<00:00, 778kB/s] "
     ]
    },
    {
     "name": "stdout",
     "output_type": "stream",
     "text": [
      "Extracting files...\n"
     ]
    },
    {
     "name": "stderr",
     "output_type": "stream",
     "text": [
      "\n"
     ]
    },
    {
     "name": "stdout",
     "output_type": "stream",
     "text": [
      "Path to dataset files: C:\\Users\\ACER\\.cache\\kagglehub\\datasets\\lakshmi25npathi\\imdb-dataset-of-50k-movie-reviews\\versions\\1\n"
     ]
    }
   ],
   "source": [
    "path_2 = kagglehub.dataset_download(\"lakshmi25npathi/imdb-dataset-of-50k-movie-reviews\")\n",
    "\n",
    "print(\"Path to dataset files:\", path_2)"
   ]
  },
  {
   "cell_type": "markdown",
   "metadata": {},
   "source": [
    "### **Move datasets to Data folder**"
   ]
  },
  {
   "cell_type": "code",
   "execution_count": 24,
   "metadata": {},
   "outputs": [],
   "source": [
    "def move_dataset_files(src, dest):\n",
    "    for file in os.listdir(src):\n",
    "        shutil.move(os.path.join(src, file), dest)"
   ]
  },
  {
   "cell_type": "code",
   "execution_count": 26,
   "metadata": {},
   "outputs": [
    {
     "name": "stdout",
     "output_type": "stream",
     "text": [
      "Datasets have been moved to data folder: d:\\NLP\\Final_Project\\NLP-Based-Movie-Entertainment-Review-Aggregator\\Data\n"
     ]
    }
   ],
   "source": [
    "paths = [path_1, path_2]\n",
    "\n",
    "dest_folder = os.path.join(os.getcwd()[0:-5]) + \"\\Data\"\n",
    "os.makedirs(dest_folder, exist_ok=True)\n",
    "\n",
    "for path in paths:\n",
    "    move_dataset_files(path, dest_folder)\n",
    "\n",
    "print(f\"Datasets have been moved to data folder: {dest_folder}\")"
   ]
  }
 ],
 "metadata": {
  "kernelspec": {
   "display_name": "min_ds-env2",
   "language": "python",
   "name": "python3"
  },
  "language_info": {
   "codemirror_mode": {
    "name": "ipython",
    "version": 3
   },
   "file_extension": ".py",
   "mimetype": "text/x-python",
   "name": "python",
   "nbconvert_exporter": "python",
   "pygments_lexer": "ipython3",
   "version": "3.10.15"
  }
 },
 "nbformat": 4,
 "nbformat_minor": 2
}
